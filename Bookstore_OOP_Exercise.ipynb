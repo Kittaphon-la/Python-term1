{
 "cells": [
  {
   "cell_type": "markdown",
   "id": "d44d8652",
   "metadata": {},
   "source": [
    "# 🛒 Bookstore Program (OOP แบบฝึกหัดระดับเริ่มต้น)\n",
    "\n",
    "## 🔸 โจทย์:\n",
    "ให้คุณสร้างคลาส `Book` สำหรับเก็บข้อมูลหนังสือแต่ละเล่ม และเขียนโปรแกรมสร้างวัตถุ (Object) ของหนังสือในร้านหนังสือ จำนวน 3 เล่ม ได้แก่\n",
    "\n",
    "| Title            | Author           | Publication Date | Price  |\n",
    "|------------------|------------------|------------------|--------|\n",
    "| The Alchemist    | Paulo Coelho     | 1988             | $10.19 |\n",
    "| As a Man Thinketh| James Allen      | 1920             | $5.99  |\n",
    "| Unlimited Power  | Anthony Robbins  | 1986             | $11.14 |\n",
    "\n",
    "## 🔧 สิ่งที่ต้องเขียน:\n",
    "1. คลาส `Book` ที่ประกอบด้วย:\n",
    "    - `title`\n",
    "    - `author`\n",
    "    - `year`\n",
    "    - `price`\n",
    "\n",
    "2. เมธอด `display_info()` ที่ใช้แสดงข้อมูลของหนังสือแต่ละเล่ม\n",
    "\n",
    "3. สร้าง Object หนังสือทั้ง 3 เล่มจากตารางข้างต้น\n",
    "\n",
    "4. เรียกใช้เมธอด `display_info()` เพื่อแสดงรายละเอียดหนังสือ\n"
   ]
  },
  {
   "cell_type": "code",
   "execution_count": 13,
   "id": "635cdf09",
   "metadata": {
    "scrolled": true
   },
   "outputs": [],
   "source": [
    "# 👉 เริ่มเขียนคลาส Book ได้ที่นี่\n",
    "class Book:\n",
    "    def __init__(self, title, author, year, price):\n",
    "        self.title = title\n",
    "        self.author = author\n",
    "        self.year = year\n",
    "        self.price = price\n",
    "\n",
    "    def display_info(self):\n",
    "        print(f\"ชื่อเรื่อง: {self.title}\")\n",
    "        print(f\"ผู้แต่ง: {self.author}\")\n",
    "        print(f\"ปีที่พิมพ์: {self.year}\")\n",
    "        print(f\"ราคา: ${self.price:.2f}\")\n",
    "\n"
   ]
  },
  {
   "cell_type": "code",
   "execution_count": null,
   "id": "b5a9f6c8-b40b-4c6c-92c1-deb4c8cf60aa",
   "metadata": {},
   "outputs": [],
   "source": [
    "# 👉 สร้างวัตถุหนังสือ 3 เล่มจากข้อมูลในตาราง\n",
    "\n",
    "book1 = Book(\"The Alchemist\", \"Paulo Coelho\", 1988, 10.19)\n",
    "book2 = Book(\"As a Man Thinketh\", \"James Allen\", 1920, 5.99)\n",
    "book3 = Book(\"Unlimited Power\", \"Anthony Robbins\", 1986, 11.14)\n",
    "book4 = Book(\"Make Your Bed\", \"พลเรือเอก วิลเลียม เอช. แม็คเรเวน\", 1988, 15.00)"
   ]
  },
  {
   "cell_type": "code",
   "execution_count": 12,
   "id": "f3d21bbf-08a2-4214-9c90-eefaed777d4c",
   "metadata": {},
   "outputs": [
    {
     "name": "stdout",
     "output_type": "stream",
     "text": [
      "ชื่อเรื่อง: The Alchemist\n",
      "ผู้แต่ง: Paulo Coelho\n",
      "ปีที่พิมพ์: 1988\n",
      "ราคา: $10.19\n",
      "----------\n",
      "ชื่อเรื่อง: As a Man Thinketh\n",
      "ผู้แต่ง: James Allen\n",
      "ปีที่พิมพ์: 1920\n",
      "ราคา: $5.99\n",
      "----------\n",
      "ชื่อเรื่อง: Unlimited Power\n",
      "ผู้แต่ง: Anthony Robbins\n",
      "ปีที่พิมพ์: 1986\n",
      "ราคา: $11.14\n",
      "----------\n",
      "ชื่อเรื่อง: Make Your Bed\n",
      "ผู้แต่ง: พลเรือเอก วิลเลียม เอช. แม็คเรเวน\n",
      "ปีที่พิมพ์: 1988\n",
      "ราคา: $15.00\n",
      "----------\n"
     ]
    }
   ],
   "source": [
    "book1.display_info()\n",
    "print(\"----------\")\n",
    "book2.display_info()\n",
    "print(\"----------\")\n",
    "book3.display_info()\n",
    "print(\"----------\")\n",
    "book4.display_info()\n",
    "print(\"----------\")"
   ]
  },
  {
   "cell_type": "code",
   "execution_count": null,
   "id": "4c37d8b0-4fd8-4905-8937-f7f69f886d1f",
   "metadata": {},
   "outputs": [],
   "source": []
  }
 ],
 "metadata": {
  "kernelspec": {
   "display_name": "Python [conda env:base] *",
   "language": "python",
   "name": "conda-base-py"
  },
  "language_info": {
   "codemirror_mode": {
    "name": "ipython",
    "version": 3
   },
   "file_extension": ".py",
   "mimetype": "text/x-python",
   "name": "python",
   "nbconvert_exporter": "python",
   "pygments_lexer": "ipython3",
   "version": "3.13.5"
  }
 },
 "nbformat": 4,
 "nbformat_minor": 5
}
