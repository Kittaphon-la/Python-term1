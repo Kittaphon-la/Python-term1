{
 "cells": [
  {
   "cell_type": "markdown",
   "id": "059b97bf",
   "metadata": {},
   "source": [
    "# 📘 แบบฝึกหัด: คลาสและอ็อบเจกต์ (ระดับง่าย)\n",
    "สำหรับนักศึกษาฝึกฝนการใช้งาน Class และ Object ในภาษา Python"
   ]
  },
  {
   "cell_type": "markdown",
   "id": "088da9be",
   "metadata": {},
   "source": [
    "## ✍️ คำแนะนำ\n",
    "- ให้นักศึกษาเขียนโค้ดในแต่ละเซลล์ด้านล่าง\n",
    "- กด `Shift + Enter` เพื่อรันโค้ด\n",
    "- สามารถใช้ Markdown เพื่อจดคำอธิบายเพิ่มเติม"
   ]
  },
  {
   "cell_type": "markdown",
   "id": "498f6e44",
   "metadata": {},
   "source": [
    "## 📝 แบบฝึกหัดที่ 1: สร้างคลาส Student\n",
    "**จงเขียนคลาส `Student` ที่มีคุณสมบัติดังนี้:**\n",
    "\n",
    "- `name`: ชื่อนักเรียน (string)\n",
    "- `student_id`: รหัสประจำตัวนักเรียน (string)\n",
    "- `major`: สาขาวิชา (string)\n",
    "\n",
    "และเขียนเมธอด `display_info()` เพื่อแสดงข้อมูลนักเรียนบนหน้าจอ"
   ]
  },
  {
   "cell_type": "code",
   "execution_count": null,
   "id": "b7fa0ecf",
   "metadata": {},
   "outputs": [],
   "source": [
    "# เขียนคลาส Student และสร้างอ็อบเจกต์ที่ชื่อ student1 แล้วเรียกใช้เมธอด display_info()"
   ]
  },
  {
   "cell_type": "markdown",
   "id": "1431bd70",
   "metadata": {},
   "source": [
    "## 📝 แบบฝึกหัดที่ 2: สร้างคลาส Car\n",
    "**จงสร้างคลาส `Car` ที่มีคุณสมบัติดังนี้:**\n",
    "\n",
    "- `brand`: ยี่ห้อรถยนต์\n",
    "- `model`: รุ่น\n",
    "- `year`: ปีผลิต\n",
    "- `color`: สี\n",
    "\n",
    "และเขียนเมธอด `start_engine()` ที่แสดงข้อความ: \n",
    "> The engine of [brand] [model] is now running."
   ]
  },
  {
   "cell_type": "code",
   "execution_count": null,
   "id": "b7e330ff",
   "metadata": {},
   "outputs": [],
   "source": [
    "# เขียนคลาส Car และสร้างอ็อบเจกต์ car1 แล้วเรียกใช้เมธอด start_engine()"
   ]
  },
  {
   "cell_type": "markdown",
   "id": "6fed3084",
   "metadata": {},
   "source": [
    "## 📝 แบบฝึกหัดที่ 3: เรียกใช้เมธอดของ Book\n",
    "จากคลาส `Book` ที่มีคุณสมบัติ: title, author, year, price, publisher\n",
    "\n",
    "**ให้สร้างอ็อบเจกต์ book1, book2, book3 แล้วเรียกเมธอด `display_info()` สำหรับแต่ละเล่ม**"
   ]
  },
  {
   "cell_type": "code",
   "execution_count": null,
   "id": "d3998df4",
   "metadata": {},
   "outputs": [],
   "source": [
    "# เขียนโค้ดที่นี่"
   ]
  },
  {
   "cell_type": "markdown",
   "id": "8567ef8c",
   "metadata": {},
   "source": [
    "## 📝 แบบฝึกหัดที่ 4: เพิ่มเมธอดในคลาส Book\n",
    "**ให้เพิ่มเมธอดใหม่ชื่อ `get_discounted_price(percent)`**\n",
    "- รับเปอร์เซ็นต์ส่วนลด (เช่น 10)\n",
    "- คืนราคาหลังหักส่วนลด"
   ]
  },
  {
   "cell_type": "code",
   "execution_count": null,
   "id": "76a9ee2d",
   "metadata": {},
   "outputs": [],
   "source": [
    "# เขียนโค้ดที่นี่"
   ]
  },
  {
   "cell_type": "markdown",
   "id": "7d571557",
   "metadata": {},
   "source": [
    "## 📝 แบบฝึกหัดที่ 5: เขียนคลาส Circle\n",
    "**จงสร้างคลาส `Circle` ที่มี:**\n",
    "- `radius`: รัศมีของวงกลม\n",
    "\n",
    "**และเมธอด:**\n",
    "- `area()` คืนค่าพื้นที่วงกลม (πr²)\n",
    "- `circumference()` คืนค่าความยาวเส้นรอบวง (2πr)\n",
    "\n",
    "> ใช้ `math.pi` จากไลบรารี `math`"
   ]
  },
  {
   "cell_type": "code",
   "execution_count": null,
   "id": "520455be",
   "metadata": {},
   "outputs": [],
   "source": [
    "# เขียนโค้ดที่นี่"
   ]
  }
 ],
 "metadata": {},
 "nbformat": 4,
 "nbformat_minor": 5
}
