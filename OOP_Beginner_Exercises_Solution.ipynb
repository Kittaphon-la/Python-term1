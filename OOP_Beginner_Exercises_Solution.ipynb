{
 "cells": [
  {
   "cell_type": "markdown",
   "id": "fee95802",
   "metadata": {},
   "source": [
    "# ✅ เฉลยและแบบประเมิน: คลาสและอ็อบเจกต์ (ระดับง่าย)"
   ]
  },
  {
   "cell_type": "markdown",
   "id": "7f804a47",
   "metadata": {},
   "source": [
    "## 🧠 แบบฝึกหัดที่ 1: คลาส Student - เฉลย"
   ]
  },
  {
   "cell_type": "code",
   "execution_count": 1,
   "id": "f87ae0e0",
   "metadata": {},
   "outputs": [
    {
     "name": "stdout",
     "output_type": "stream",
     "text": [
      "Name: Anan Yodjai\n",
      "Student ID: 6601122334\n",
      "Major: Computer Engineering\n"
     ]
    }
   ],
   "source": [
    "class Student:\n",
    "    def __init__(self, name, student_id, major):\n",
    "        self.name = name\n",
    "        self.student_id = student_id\n",
    "        self.major = major\n",
    "\n",
    "    def display_info(self):\n",
    "        print(f\"Name: {self.name}\")\n",
    "        print(f\"Student ID: {self.student_id}\")\n",
    "        print(f\"Major: {self.major}\")\n",
    "\n",
    "# ทดสอบ\n",
    "student1 = Student(\"Anan Yodjai\", \"6601122334\", \"Computer Engineering\")\n",
    "student1.display_info()"
   ]
  },
  {
   "cell_type": "markdown",
   "id": "dd638e4c",
   "metadata": {},
   "source": [
    "## 🚗 แบบฝึกหัดที่ 2: คลาส Car - เฉลย"
   ]
  },
  {
   "cell_type": "code",
   "execution_count": null,
   "id": "05260940",
   "metadata": {},
   "outputs": [],
   "source": [
    "class Car:\n",
    "    def __init__(self, brand, model, year, color):\n",
    "        self.brand = brand\n",
    "        self.model = model\n",
    "        self.year = year\n",
    "        self.color = color\n",
    "\n",
    "    def start_engine(self):\n",
    "        print(f\"The engine of {self.brand} {self.model} is now running.\")\n",
    "\n",
    "# ทดสอบ\n",
    "car1 = Car(\"Toyota\", \"Corolla\", 2020, \"White\")\n",
    "car1.start_engine()"
   ]
  },
  {
   "cell_type": "markdown",
   "id": "ea510dfb",
   "metadata": {},
   "source": [
    "## 📚 แบบฝึกหัดที่ 3: สร้างอ็อบเจกต์จากคลาส Book - เฉลย"
   ]
  },
  {
   "cell_type": "code",
   "execution_count": null,
   "id": "f288c774",
   "metadata": {},
   "outputs": [],
   "source": [
    "class Book:\n",
    "    def __init__(self, title, author, year, price, publisher):\n",
    "        self.title = title\n",
    "        self.author = author\n",
    "        self.year = year\n",
    "        self.price = price\n",
    "        self.publisher = publisher\n",
    "\n",
    "    def display_info(self):\n",
    "        print(f\"Title: {self.title}\")\n",
    "        print(f\"Author: {self.author}\")\n",
    "        print(f\"Year: {self.year}\")\n",
    "        print(f\"Price: ${self.price:.2f}\")\n",
    "        print(f\"Publisher: {self.publisher}\\n\")\n",
    "\n",
    "book1 = Book(\"The Alchemist\", \"Paulo Coelho\", 1988, 10.19, \"HarperCollins\")\n",
    "book2 = Book(\"As a Man Thinketh\", \"James Allen\", 1902, 5.99, \"Simon & Schuster\")\n",
    "book3 = Book(\"Atomic Habits\", \"James Clear\", 2018, 15.50, \"Penguin\")\n",
    "\n",
    "book1.display_info()\n",
    "book2.display_info()\n",
    "book3.display_info()"
   ]
  },
  {
   "cell_type": "markdown",
   "id": "5fe18545",
   "metadata": {},
   "source": [
    "## 🧮 แบบฝึกหัดที่ 4: เมธอด get_discounted_price - เฉลย"
   ]
  },
  {
   "cell_type": "code",
   "execution_count": null,
   "id": "0e351dd4",
   "metadata": {},
   "outputs": [],
   "source": [
    "class Book:\n",
    "    def __init__(self, title, author, year, price):\n",
    "        self.title = title\n",
    "        self.author = author\n",
    "        self.year = year\n",
    "        self.price = price\n",
    "\n",
    "    def get_discounted_price(self, percent):\n",
    "        return self.price * (1 - percent / 100)\n",
    "\n",
    "# ทดสอบ\n",
    "book = Book(\"Deep Work\", \"Cal Newport\", 2016, 12.99)\n",
    "discounted = book.get_discounted_price(10)\n",
    "print(f\"Discounted Price: ${discounted:.2f}\")"
   ]
  },
  {
   "cell_type": "markdown",
   "id": "317c8ab2",
   "metadata": {},
   "source": [
    "## 🔵 แบบฝึกหัดที่ 5: คลาส Circle - เฉลย"
   ]
  },
  {
   "cell_type": "code",
   "execution_count": null,
   "id": "76b3ff19",
   "metadata": {},
   "outputs": [],
   "source": [
    "import math\n",
    "\n",
    "class Circle:\n",
    "    def __init__(self, radius):\n",
    "        self.radius = radius\n",
    "\n",
    "    def area(self):\n",
    "        return math.pi * self.radius ** 2\n",
    "\n",
    "    def circumference(self):\n",
    "        return 2 * math.pi * self.radius\n",
    "\n",
    "# ทดสอบ\n",
    "circle = Circle(5)\n",
    "print(f\"Area: {circle.area():.2f}\")\n",
    "print(f\"Circumference: {circle.circumference():.2f}\")"
   ]
  },
  {
   "cell_type": "markdown",
   "id": "41669d93",
   "metadata": {},
   "source": [
    "## 📊 แบบประเมินผล (Rubric)\n",
    "| ข้อ | หัวข้อประเมิน                             | คะแนนเต็ม | หมายเหตุ           |\n",
    "|-----|------------------------------------------|------------|--------------------|\n",
    "| 1   | สร้างคลาส Student ได้ถูกต้อง               | 5          | ใช้ constructor และเมธอด |\n",
    "| 2   | สร้างคลาส Car และแสดงผล start_engine() ได้ | 5          |                    |\n",
    "| 3   | สร้างอ็อบเจกต์ Book และเรียกเมธอดได้       | 5          | ใช้ display_info() |\n",
    "| 4   | เพิ่มเมธอด get_discounted_price ได้         | 5          | คืนค่าถูกต้อง     |\n",
    "| 5   | คลาส Circle มี area และ circumference       | 5          | ใช้ math.pi ถูกต้อง |\n",
    "| **รวม** |                                          | **25**     |                    |"
   ]
  }
 ],
 "metadata": {
  "kernelspec": {
   "display_name": "Python 3 (ipykernel)",
   "language": "python",
   "name": "python3"
  },
  "language_info": {
   "codemirror_mode": {
    "name": "ipython",
    "version": 3
   },
   "file_extension": ".py",
   "mimetype": "text/x-python",
   "name": "python",
   "nbconvert_exporter": "python",
   "pygments_lexer": "ipython3",
   "version": "3.12.3"
  }
 },
 "nbformat": 4,
 "nbformat_minor": 5
}
