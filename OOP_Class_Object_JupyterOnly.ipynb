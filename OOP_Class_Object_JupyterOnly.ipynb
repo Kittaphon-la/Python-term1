{
 "cells": [
  {
   "cell_type": "markdown",
   "id": "c38547cd",
   "metadata": {},
   "source": [
    "# 📘 OOP: Class และ Object ด้วย Python\n",
    "สำหรับใช้งานกับ **Jupyter Notebook** โดยตรง"
   ]
  },
  {
   "cell_type": "markdown",
   "id": "d4af500f",
   "metadata": {},
   "source": [
    "## 🔍 บทนำ\n",
    "ในบทเรียนนี้ เราจะเรียนรู้เกี่ยวกับการใช้ **คลาส (Class)** และ **อ็อบเจกต์ (Object)** ในภาษา Python ด้วยตัวอย่าง `Book` หรือ “หนังสือ” เพื่อเข้าใจหลักการเขียนโปรแกรมเชิงวัตถุ (OOP)"
   ]
  },
  {
   "cell_type": "code",
   "execution_count": 1,
   "id": "ca558086",
   "metadata": {},
   "outputs": [],
   "source": [
    "# ✅ การสร้างคลาส Book\n",
    "class Book:\n",
    "    def __init__(self, title, author, year_published, price):\n",
    "        # self คือ ตัวแทนของอ็อบเจกต์ที่สร้างจากคลาสนี้\n",
    "        self.title = title            # ชื่อหนังสือ\n",
    "        self.author = author          # ผู้แต่ง\n",
    "        self.year_published = year_published  # ปีที่พิมพ์\n",
    "        self.price = price            # ราคาหนังสือ\n",
    "\n",
    "    def display_info(self):\n",
    "        # เมธอดสำหรับแสดงข้อมูลหนังสือ\n",
    "        print(f\"Title: {self.title}\")\n",
    "        print(f\"Author: {self.author}\")\n",
    "        print(f\"Year Published: {self.year_published}\")\n",
    "        print(f\"Price: ${self.price:.2f}\")"
   ]
  },
  {
   "cell_type": "code",
   "execution_count": 2,
   "id": "044a127b",
   "metadata": {},
   "outputs": [],
   "source": [
    "# ✅ การสร้างอ็อบเจกต์จากคลาส Book\n",
    "book1 = Book(\"The Alchemist\", \"Paulo Coelho\", 1988, 10.19)\n",
    "book2 = Book(\"As a Man Thinketh\", \"James Allen\", 1902, 5.99)"
   ]
  },
  {
   "cell_type": "code",
   "execution_count": 3,
   "id": "b580b2c1",
   "metadata": {},
   "outputs": [
    {
     "name": "stdout",
     "output_type": "stream",
     "text": [
      "Title: The Alchemist\n",
      "Author: Paulo Coelho\n",
      "Year Published: 1988\n",
      "Price: $10.19\n",
      "\n",
      "Title: As a Man Thinketh\n",
      "Author: James Allen\n",
      "Year Published: 1902\n",
      "Price: $5.99\n"
     ]
    }
   ],
   "source": [
    "# ✅ เรียกใช้เมธอด display_info ของแต่ละอ็อบเจกต์\n",
    "book1.display_info()\n",
    "print()  # เว้นบรรทัด\n",
    "book2.display_info()"
   ]
  },
  {
   "cell_type": "code",
   "execution_count": 4,
   "id": "3bfabaf7",
   "metadata": {},
   "outputs": [
    {
     "name": "stdout",
     "output_type": "stream",
     "text": [
      "Title: The Alchemist\n",
      "Author: Paulo Coelho\n",
      "Year: 1988\n",
      "Price: $10.19\n",
      "\n",
      "Title: As a Man Thinketh\n",
      "Author: James Allen\n",
      "Year: 1902\n",
      "Price: $5.99\n",
      "\n"
     ]
    }
   ],
   "source": [
    "# ❌ เปรียบเทียบกับการไม่ใช้คลาส (ใช้ list แยกเก็บข้อมูล)\n",
    "titles = [\"The Alchemist\", \"As a Man Thinketh\"]\n",
    "authors = [\"Paulo Coelho\", \"James Allen\"]\n",
    "years = [1988, 1902]\n",
    "prices = [10.19, 5.99]\n",
    "\n",
    "# แสดงข้อมูลแต่ละเล่ม\n",
    "for i in range(len(titles)):\n",
    "    print(f\"Title: {titles[i]}\")\n",
    "    print(f\"Author: {authors[i]}\")\n",
    "    print(f\"Year: {years[i]}\")\n",
    "    print(f\"Price: ${prices[i]:.2f}\\n\")"
   ]
  },
  {
   "cell_type": "markdown",
   "id": "eddded02",
   "metadata": {},
   "source": [
    "## ✅ ข้อดีของการใช้คลาสและอ็อบเจกต์\n",
    "- ข้อมูลที่เกี่ยวข้องถูกรวมอยู่ในอ็อบเจกต์เดียว\n",
    "- เพิ่มหรือเปลี่ยนคุณสมบัติได้ง่าย เช่น เพิ่ม publisher\n",
    "- โปรแกรมอ่านง่ายและดูแลรักษาสะดวก\n",
    "- สะท้อนแนวคิดจากโลกจริงได้ดี\n"
   ]
  }
 ],
 "metadata": {
  "kernelspec": {
   "display_name": "Python 3 (ipykernel)",
   "language": "python",
   "name": "python3"
  },
  "language_info": {
   "codemirror_mode": {
    "name": "ipython",
    "version": 3
   },
   "file_extension": ".py",
   "mimetype": "text/x-python",
   "name": "python",
   "nbconvert_exporter": "python",
   "pygments_lexer": "ipython3",
   "version": "3.12.3"
  }
 },
 "nbformat": 4,
 "nbformat_minor": 5
}
