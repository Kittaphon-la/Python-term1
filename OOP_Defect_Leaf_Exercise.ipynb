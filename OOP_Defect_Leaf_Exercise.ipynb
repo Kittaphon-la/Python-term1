{
 "cells": [
  {
   "cell_type": "markdown",
   "id": "1a6bee86",
   "metadata": {},
   "source": [
    "# 🌿 แบบฝึกหัด OOP: Defect Leaf\n",
    "## จุดประสงค์:\n",
    "เข้าใจแนวคิด **Class**, **Object**, และ **Encapsulation** โดยใช้กรณีศึกษา \"ใบไม้ที่มีตำหนิ\"\n",
    "\n",
    "## โจทย์:\n",
    "- สร้างคลาส `DefectLeaf` ที่มี attributes: `leaf_id`, `defect_type`, `severity_level`\n",
    "- สร้างเมธอด `display_info()` เพื่อแสดงข้อมูลของใบไม้แต่ละใบ\n",
    "- สร้าง object ของใบไม้ 3 ใบ และเรียกใช้เมธอด\n"
   ]
  },
  {
   "cell_type": "code",
   "execution_count": 1,
   "id": "5500fd5a",
   "metadata": {},
   "outputs": [],
   "source": [
    "# สร้างคลาส DefectLeaf\n",
    "class DefectLeaf:\n",
    "    def __init__(self, leaf_id, defect_type, severity_level):\n",
    "        self.leaf_id = leaf_id\n",
    "        self.defect_type = defect_type\n",
    "        self.severity_level = severity_level\n",
    "\n",
    "    def display_info(self):\n",
    "        print(f\"Leaf ID: {self.leaf_id}\")\n",
    "        print(f\"Defect Type: {self.defect_type}\")\n",
    "        print(f\"Severity Level: {self.severity_level}\\n\")"
   ]
  },
  {
   "cell_type": "code",
   "execution_count": 2,
   "id": "21bf663d",
   "metadata": {},
   "outputs": [],
   "source": [
    "# สร้างอ็อบเจกต์ของใบไม้ 3 ใบ\n",
    "leaf1 = DefectLeaf(\"L001\", \"จุดแดง\", 2)\n",
    "leaf2 = DefectLeaf(\"L002\", \"รอยเน่า\", 4)\n",
    "leaf3 = DefectLeaf(\"L003\", \"รูพรุน\", 3)"
   ]
  },
  {
   "cell_type": "code",
   "execution_count": 3,
   "id": "9612ca5a",
   "metadata": {},
   "outputs": [
    {
     "name": "stdout",
     "output_type": "stream",
     "text": [
      "Leaf ID: L001\n",
      "Defect Type: จุดแดง\n",
      "Severity Level: 2\n",
      "\n",
      "Leaf ID: L002\n",
      "Defect Type: รอยเน่า\n",
      "Severity Level: 4\n",
      "\n",
      "Leaf ID: L003\n",
      "Defect Type: รูพรุน\n",
      "Severity Level: 3\n",
      "\n"
     ]
    }
   ],
   "source": [
    "# แสดงผลข้อมูลใบไม้\n",
    "leaf1.display_info()\n",
    "leaf2.display_info()\n",
    "leaf3.display_info()"
   ]
  }
 ],
 "metadata": {
  "kernelspec": {
   "display_name": "Python 3 (ipykernel)",
   "language": "python",
   "name": "python3"
  },
  "language_info": {
   "codemirror_mode": {
    "name": "ipython",
    "version": 3
   },
   "file_extension": ".py",
   "mimetype": "text/x-python",
   "name": "python",
   "nbconvert_exporter": "python",
   "pygments_lexer": "ipython3",
   "version": "3.12.3"
  }
 },
 "nbformat": 4,
 "nbformat_minor": 5
}
