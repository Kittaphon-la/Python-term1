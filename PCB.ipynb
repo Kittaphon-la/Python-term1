{
 "cells": [
  {
   "cell_type": "code",
   "execution_count": 1,
   "id": "8527c28e-2613-4e7e-a167-7b5cbd55e620",
   "metadata": {
    "scrolled": true
   },
   "outputs": [
    {
     "name": "stdout",
     "output_type": "stream",
     "text": [
      "/////////////////////////\n",
      "Defect: ขาดเส้นวงจร\n",
      "Process: การกัดทองแดง\n",
      "Defect occurrence: พบในจุด DOWNLOAD\n",
      "/////////////////////////\n"
     ]
    }
   ],
   "source": [
    "class PCB:\n",
    "    def __init__(self, defect, process, defect_occ):\n",
    "        self.defect = defect\n",
    "        self.process = process\n",
    "        self.defect_occ = defect_occ\n",
    "\n",
    "    def display_info(self):\n",
    "        print(\"/////////////////////////\")\n",
    "        print(f\"Defect: {self.defect}\")\n",
    "        print(f\"Process: {self.process}\")\n",
    "        print(f\"Defect occurrence: {self.defect_occ}\")\n",
    "        print(\"/////////////////////////\")\n",
    "\n",
    "\n",
    "# ตัวอย่างการใช้งาน (จากรูป PCB ที่อาจพบปัญหาตรงจุด DOWNLOAD)\n",
    "pcb1 = PCB(\"ขาดเส้นวงจร\", \"การกัดทองแดง\", \"พบในจุด DOWNLOAD\")\n",
    "pcb1.display_info()\n"
   ]
  },
  {
   "cell_type": "code",
   "execution_count": 2,
   "id": "d3d3894b-2035-43e8-b59e-c2f8a2ae83f6",
   "metadata": {},
   "outputs": [
    {
     "name": "stdout",
     "output_type": "stream",
     "text": [
      "/////////////////////////\n",
      "Defect: ลายทองแดงหลุด\n",
      "Process: การล้างสารเคมี\n",
      "Defect occurrence: จุดเชื่อมต่อ P1-P2\n",
      "/////////////////////////\n"
     ]
    }
   ],
   "source": [
    "class PCB:\n",
    "    def __init__(self, defect, process, defect_occ):\n",
    "        self.defect = defect\n",
    "        self.process = process\n",
    "        self.defect_occ = defect_occ\n",
    "\n",
    "    def display_info(self):\n",
    "        print(\"/////////////////////////\")\n",
    "        print(f\"Defect: {self.defect}\")\n",
    "        print(f\"Process: {self.process}\")\n",
    "        print(f\"Defect occurrence: {self.defect_occ}\")\n",
    "        print(\"/////////////////////////\")\n",
    "\n",
    "\n",
    "pcb2 = PCB(\"ลายทองแดงหลุด\", \"การล้างสารเคมี\", \"จุดเชื่อมต่อ P1-P2\")\n",
    "pcb2.display_info()\n"
   ]
  },
  {
   "cell_type": "code",
   "execution_count": 3,
   "id": "c57a4ab5-22e4-4365-bfec-1b1f9c5e0a9c",
   "metadata": {},
   "outputs": [
    {
     "name": "stdout",
     "output_type": "stream",
     "text": [
      "/////////////////////////\n",
      "Defect: เจาะรูเบี้ยว\n",
      "Process: การเจาะรูด้วย CNC\n",
      "Defect occurrence: บริเวณช่องเสียบ P0\n",
      "/////////////////////////\n"
     ]
    }
   ],
   "source": [
    "class PCB:\n",
    "    def __init__(self, defect, process, defect_occ):\n",
    "        self.defect = defect\n",
    "        self.process = process\n",
    "        self.defect_occ = defect_occ\n",
    "\n",
    "    def display_info(self):\n",
    "        print(\"/////////////////////////\")\n",
    "        print(f\"Defect: {self.defect}\")\n",
    "        print(f\"Process: {self.process}\")\n",
    "        print(f\"Defect occurrence: {self.defect_occ}\")\n",
    "        print(\"/////////////////////////\")\n",
    "\n",
    "\n",
    "pcb3 = PCB(\"เจาะรูเบี้ยว\", \"การเจาะรูด้วย CNC\", \"บริเวณช่องเสียบ P0\")\n",
    "pcb3.display_info()\n"
   ]
  },
  {
   "cell_type": "code",
   "execution_count": 4,
   "id": "f686ef51-bc4c-4710-a596-49339c66b68f",
   "metadata": {},
   "outputs": [
    {
     "name": "stdout",
     "output_type": "stream",
     "text": [
      "/////////////////////////\n",
      "Defect: สะพานทองแดง\n",
      "Process: การกัดลายวงจร\n",
      "Defect occurrence: ใกล้ตำแหน่ง P3 บริเวณบนขวา\n",
      "/////////////////////////\n"
     ]
    }
   ],
   "source": [
    "class PCB:\n",
    "    def __init__(self, defect, process, defect_occ):\n",
    "        self.defect = defect\n",
    "        self.process = process\n",
    "        self.defect_occ = defect_occ\n",
    "\n",
    "    def display_info(self):\n",
    "        print(\"/////////////////////////\")\n",
    "        print(f\"Defect: {self.defect}\")\n",
    "        print(f\"Process: {self.process}\")\n",
    "        print(f\"Defect occurrence: {self.defect_occ}\")\n",
    "        print(\"/////////////////////////\")\n",
    "\n",
    "\n",
    "pcb4 = PCB(\"สะพานทองแดง\", \"การกัดลายวงจร\", \"ใกล้ตำแหน่ง P3 บริเวณบนขวา\")\n",
    "pcb4.display_info()\n"
   ]
  },
  {
   "cell_type": "code",
   "execution_count": 5,
   "id": "513cfdff-3abb-4ded-b8af-8a4e326e88e6",
   "metadata": {},
   "outputs": [
    {
     "name": "stdout",
     "output_type": "stream",
     "text": [
      "/////////////////////////\n",
      "Defect: บัดกรีไม่ติด\n",
      "Process: การบัดกรีมือ\n",
      "Defect occurrence: ขาอุปกรณ์ใกล้ช่อง P2\n",
      "/////////////////////////\n"
     ]
    }
   ],
   "source": [
    "class PCB:\n",
    "    def __init__(self, defect, process, defect_occ):\n",
    "        self.defect = defect\n",
    "        self.process = process\n",
    "        self.defect_occ = defect_occ\n",
    "\n",
    "    def display_info(self):\n",
    "        print(\"/////////////////////////\")\n",
    "        print(f\"Defect: {self.defect}\")\n",
    "        print(f\"Process: {self.process}\")\n",
    "        print(f\"Defect occurrence: {self.defect_occ}\")\n",
    "        print(\"/////////////////////////\")\n",
    "\n",
    "\n",
    "pcb5 = PCB(\"บัดกรีไม่ติด\", \"การบัดกรีมือ\", \"ขาอุปกรณ์ใกล้ช่อง P2\")\n",
    "pcb5.display_info()\n"
   ]
  },
  {
   "cell_type": "code",
   "execution_count": 6,
   "id": "c56df070-40fa-4645-b23a-e9674fdd1aec",
   "metadata": {},
   "outputs": [
    {
     "name": "stdout",
     "output_type": "stream",
     "text": [
      "/////////////////////////\n",
      "Defect: ลายทองแดงขาดใน\n",
      "Process: การประกอบหลายชั้น\n",
      "Defect occurrence: ภายในชั้นที่เชื่อม P1-P3\n",
      "/////////////////////////\n"
     ]
    }
   ],
   "source": [
    "class PCB:\n",
    "    def __init__(self, defect, process, defect_occ):\n",
    "        self.defect = defect\n",
    "        self.process = process\n",
    "        self.defect_occ = defect_occ\n",
    "\n",
    "    def display_info(self):\n",
    "        print(\"/////////////////////////\")\n",
    "        print(f\"Defect: {self.defect}\")\n",
    "        print(f\"Process: {self.process}\")\n",
    "        print(f\"Defect occurrence: {self.defect_occ}\")\n",
    "        print(\"/////////////////////////\")\n",
    "\n",
    "\n",
    "pcb6 = PCB(\"ลายทองแดงขาดใน\", \"การประกอบหลายชั้น\", \"ภายในชั้นที่เชื่อม P1-P3\")\n",
    "pcb6.display_info()\n"
   ]
  },
  {
   "cell_type": "code",
   "execution_count": 1,
   "id": "41ca48c7-31de-4b96-8bab-89056d40e57e",
   "metadata": {},
   "outputs": [],
   "source": [
    "class PCBDefect:\n",
    "    def __init__(self, defect_type, process, location):\n",
    "        self.defect_type = defect_type\n",
    "        self.process = process\n",
    "        self.location = location\n",
    "\n",
    "    def display(self):\n",
    "        print(\"----- PCB DEFECT INFO -----\")\n",
    "        print(f\"Defect Type : {self.defect_type}\")\n",
    "        print(f\"Process     : {self.process}\")\n",
    "        print(f\"Location    : {self.location}\")\n",
    "        print(\"----------------------------\")\n",
    "\n",
    "class PCBAnalyzer:\n",
    "    def __init__(self):\n",
    "        self.defects = []\n",
    "\n",
    "    def add_defect(self, defect: PCBDefect):\n",
    "        self.defects.append(defect)\n",
    "\n",
    "    def show_all_defects(self):\n",
    "        print(f\"Total Defects: {len(self.defects)}\")\n",
    "        for defect in self.defects:\n",
    "            defect.display()\n",
    "\n",
    "    def summary_by_process(self):\n",
    "        print(\"=== Summary by Process ===\")\n",
    "        summary = {}\n",
    "        for d in self.defects:\n",
    "            summary[d.process] = summary.get(d.process, 0) + 1\n",
    "        for process, count in summary.items():\n",
    "            print(f\"{process}: {count} defect(s)\")\n",
    "\n",
    "    def summary_by_type(self):\n",
    "        print(\"=== Summary by Defect Type ===\")\n",
    "        summary = {}\n",
    "        for d in self.defects:\n",
    "            summary[d.defect_type] = summary.get(d.defect_type, 0) + 1\n",
    "        for defect_type, count in summary.items():\n",
    "            print(f\"{defect_type}: {count} defect(s)\")\n"
   ]
  },
  {
   "cell_type": "code",
   "execution_count": 2,
   "id": "fc3b21ad-7114-4c73-8e71-0407a5da49b2",
   "metadata": {},
   "outputs": [
    {
     "name": "stdout",
     "output_type": "stream",
     "text": [
      "Total Defects: 6\n",
      "----- PCB DEFECT INFO -----\n",
      "Defect Type : ขาดเส้นวงจร\n",
      "Process     : การกัดทองแดง\n",
      "Location    : จุด DOWNLOAD\n",
      "----------------------------\n",
      "----- PCB DEFECT INFO -----\n",
      "Defect Type : ลายทองแดงหลุด\n",
      "Process     : การล้างสารเคมี\n",
      "Location    : จุดเชื่อมต่อ P1-P2\n",
      "----------------------------\n",
      "----- PCB DEFECT INFO -----\n",
      "Defect Type : เจาะรูเบี้ยว\n",
      "Process     : การเจาะรูด้วย CNC\n",
      "Location    : บริเวณช่องเสียบ P0\n",
      "----------------------------\n",
      "----- PCB DEFECT INFO -----\n",
      "Defect Type : สะพานทองแดง\n",
      "Process     : การกัดลายวงจร\n",
      "Location    : ใกล้ตำแหน่ง P3 บริเวณบนขวา\n",
      "----------------------------\n",
      "----- PCB DEFECT INFO -----\n",
      "Defect Type : บัดกรีไม่ติด\n",
      "Process     : การบัดกรีมือ\n",
      "Location    : ขาอุปกรณ์ใกล้ช่อง P2\n",
      "----------------------------\n",
      "----- PCB DEFECT INFO -----\n",
      "Defect Type : ลายทองแดงขาดใน\n",
      "Process     : การประกอบหลายชั้น\n",
      "Location    : ชั้นในระหว่าง P1-P3\n",
      "----------------------------\n",
      "=== Summary by Process ===\n",
      "การกัดทองแดง: 1 defect(s)\n",
      "การล้างสารเคมี: 1 defect(s)\n",
      "การเจาะรูด้วย CNC: 1 defect(s)\n",
      "การกัดลายวงจร: 1 defect(s)\n",
      "การบัดกรีมือ: 1 defect(s)\n",
      "การประกอบหลายชั้น: 1 defect(s)\n",
      "=== Summary by Defect Type ===\n",
      "ขาดเส้นวงจร: 1 defect(s)\n",
      "ลายทองแดงหลุด: 1 defect(s)\n",
      "เจาะรูเบี้ยว: 1 defect(s)\n",
      "สะพานทองแดง: 1 defect(s)\n",
      "บัดกรีไม่ติด: 1 defect(s)\n",
      "ลายทองแดงขาดใน: 1 defect(s)\n"
     ]
    }
   ],
   "source": [
    "# สร้าง defect แต่ละตัว\n",
    "pcb1 = PCBDefect(\"ขาดเส้นวงจร\", \"การกัดทองแดง\", \"จุด DOWNLOAD\")\n",
    "pcb2 = PCBDefect(\"ลายทองแดงหลุด\", \"การล้างสารเคมี\", \"จุดเชื่อมต่อ P1-P2\")\n",
    "pcb3 = PCBDefect(\"เจาะรูเบี้ยว\", \"การเจาะรูด้วย CNC\", \"บริเวณช่องเสียบ P0\")\n",
    "pcb4 = PCBDefect(\"สะพานทองแดง\", \"การกัดลายวงจร\", \"ใกล้ตำแหน่ง P3 บริเวณบนขวา\")\n",
    "pcb5 = PCBDefect(\"บัดกรีไม่ติด\", \"การบัดกรีมือ\", \"ขาอุปกรณ์ใกล้ช่อง P2\")\n",
    "pcb6 = PCBDefect(\"ลายทองแดงขาดใน\", \"การประกอบหลายชั้น\", \"ชั้นในระหว่าง P1-P3\")\n",
    "\n",
    "# ใช้งาน PCBAnalyzer\n",
    "analyzer = PCBAnalyzer()\n",
    "analyzer.add_defect(pcb1)\n",
    "analyzer.add_defect(pcb2)\n",
    "analyzer.add_defect(pcb3)\n",
    "analyzer.add_defect(pcb4)\n",
    "analyzer.add_defect(pcb5)\n",
    "analyzer.add_defect(pcb6)\n",
    "\n",
    "# แสดงผล\n",
    "analyzer.show_all_defects()\n",
    "analyzer.summary_by_process()\n",
    "analyzer.summary_by_type()\n"
   ]
  },
  {
   "cell_type": "code",
   "execution_count": null,
   "id": "fe7e3b7a-0152-48ff-a8b9-5b55385727f6",
   "metadata": {},
   "outputs": [],
   "source": []
  }
 ],
 "metadata": {
  "kernelspec": {
   "display_name": "Python [conda env:base] *",
   "language": "python",
   "name": "conda-base-py"
  },
  "language_info": {
   "codemirror_mode": {
    "name": "ipython",
    "version": 3
   },
   "file_extension": ".py",
   "mimetype": "text/x-python",
   "name": "python",
   "nbconvert_exporter": "python",
   "pygments_lexer": "ipython3",
   "version": "3.13.5"
  }
 },
 "nbformat": 4,
 "nbformat_minor": 5
}
