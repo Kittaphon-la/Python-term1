{
 "cells": [
  {
   "cell_type": "code",
   "execution_count": 3,
   "id": "86a12b52-5371-422e-a652-6ab0014f8d4f",
   "metadata": {},
   "outputs": [],
   "source": [
    "class LeafPlate:\n",
    "    def __init__(self, shape, size, price, defects):\n",
    "        self.shape = shape\n",
    "        self.size = size\n",
    "        self.price = price\n",
    "        self.defects = defects  # เป็น list\n",
    "\n",
    "    def display_info(self):\n",
    "        print(f\"Shape: {self.shape}\")\n",
    "        print(f\"Size: {self.size}\")\n",
    "        print(f\"Price: {self.price:.2f} THB\")\n",
    "        print(f\"Defects: {', '.join(self.defects) if self.defects else 'None'}\")\n",
    "\n",
    "    def check_quality(self):\n",
    "        if len(self.defects) == 0:\n",
    "            print(\"ผ่าน\")\n",
    "        else:\n",
    "            print(\"ไม่ผ่าน\")\n",
    "            print(f\"ตำหนิ: {', '.join(self.defects)}\")"
   ]
  },
  {
   "cell_type": "code",
   "execution_count": 5,
   "id": "17f7a3c0-19e0-4278-9af7-cf30b3a5e87a",
   "metadata": {},
   "outputs": [
    {
     "name": "stdout",
     "output_type": "stream",
     "text": [
      "Shape: Round\n",
      "Size: 12 cm\n",
      "Price: 5.00 THB\n",
      "Defects: None\n",
      "ผ่าน\n",
      "---------------\n",
      "Shape: Rectangle\n",
      "Size: 15 x 10 cm\n",
      "Price: 6.00 THB\n",
      "Defects: รอยแตก, โป่งพอง\n",
      "ไม่ผ่าน\n",
      "ตำหนิ: รอยแตก, โป่งพอง\n",
      "---------------\n",
      "Shape: Heart\n",
      "Size: 10 cm\n",
      "Price: 6.50 THB\n",
      "Defects: รู\n",
      "ไม่ผ่าน\n",
      "ตำหนิ: รู\n"
     ]
    }
   ],
   "source": [
    "plate1 = LeafPlate(\"Round\", \"12 cm\", 5.00, [])\n",
    "plate2 = LeafPlate(\"Rectangle\", \"15 x 10 cm\", 6.00, [\"รอยแตก\", \"โป่งพอง\"])\n",
    "plate3 = LeafPlate(\"Heart\", \"10 cm\", 6.50, [\"รู\"])\n",
    "\n",
    "# ทดสอบแสดงผลและตรวจสอบคุณภาพ\n",
    "plate1.display_info()\n",
    "plate1.check_quality()\n",
    "\n",
    "print(\"---------------\")\n",
    "\n",
    "plate2.display_info()\n",
    "plate2.check_quality()\n",
    "\n",
    "print(\"---------------\")\n",
    "\n",
    "plate3.display_info()\n",
    "plate3.check_quality()"
   ]
  },
  {
   "cell_type": "code",
   "execution_count": null,
   "id": "b9a5645c-6671-4a97-9751-b00d34af2c4e",
   "metadata": {},
   "outputs": [],
   "source": []
  }
 ],
 "metadata": {
  "kernelspec": {
   "display_name": "Python 3 (ipykernel)",
   "language": "python",
   "name": "python3"
  },
  "language_info": {
   "codemirror_mode": {
    "name": "ipython",
    "version": 3
   },
   "file_extension": ".py",
   "mimetype": "text/x-python",
   "name": "python",
   "nbconvert_exporter": "python",
   "pygments_lexer": "ipython3",
   "version": "3.12.3"
  }
 },
 "nbformat": 4,
 "nbformat_minor": 5
}
