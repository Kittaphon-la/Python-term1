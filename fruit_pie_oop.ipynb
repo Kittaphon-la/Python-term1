{
 "cells": [
  {
   "cell_type": "markdown",
   "id": "a6e430ff",
   "metadata": {},
   "source": [
    "# กราฟวงกลมยอดขายผลไม้ (แนว OOP)\n",
    "\n",
    "สมุดโน้ตนี้สาธิตการออกแบบโปรแกรมเชิงวัตถุ (OOP) สำหรับการแสดงผลข้อมูลยอดขายผลไม้เป็น **กราฟวงกลม (Pie Chart)** ด้วย `matplotlib`.\n",
    "\n",
    "**สิ่งที่มีในไฟล์นี้**\n",
    "- โมเดลข้อมูล `Fruit`\n",
    "- ชั้นจัดการชุดข้อมูล/ตรรกะ `FruitDataset`\n",
    "- ชั้นวาดกราฟ `FruitPlotter` พร้อมเมธอด `plot_pie`\n",
    "- ตัวอย่างการใช้งานและแนวคิด OOP ที่ใช้\n"
   ]
  },
  {
   "cell_type": "markdown",
   "id": "1cda0186",
   "metadata": {},
   "source": [
    "## แนวคิด OOP ที่ใช้\n",
    "1. **Encapsulation (การห่อหุ้ม)**: เก็บสถานะและพฤติกรรมไว้ในคลาส `Fruit`, `FruitDataset`, `FruitPlotter` แยกความรับผิดชอบชัดเจน\n",
    "2. **Single Responsibility**: แต่ละคลาสทำหน้าที่เดียว\n",
    "   - `Fruit` = โครงสร้างข้อมูลผลไม้ 1 รายการ\n",
    "   - `FruitDataset` = ตรรกะจัดการชุดข้อมูล (ดึงชื่อ, ยอดขาย, จัดกลุ่ม, เรียง)\n",
    "   - `FruitPlotter` = วาดกราฟ/แสดงผล\n",
    "3. **Reusability/Extensibility**: สามารถเพิ่มกราฟอื่น (bar/line/pie), เพิ่มเมธอดสรุปใน `FruitDataset` ได้โดยไม่กระทบส่วนอื่นมาก\n"
   ]
  },
  {
   "cell_type": "code",
   "execution_count": null,
   "id": "a03ced37",
   "metadata": {},
   "outputs": [],
   "source": [
    "import matplotlib.pyplot as plt\n",
    "from dataclasses import dataclass\n",
    "from typing import List, Iterable, Dict\n",
    "from collections import defaultdict\n",
    "\n",
    "@dataclass(frozen=True)\n",
    "class Fruit:\n",
    "    name: str\n",
    "    origin: str\n",
    "    unit_sold: int\n",
    "\n",
    "class FruitDataset:\n",
    "    def __init__(self, fruits: Iterable[Fruit]):\n",
    "        self._fruits: List[Fruit] = list(fruits)\n",
    "\n",
    "    def names(self) -> List[str]:\n",
    "        return [f.name for f in self._fruits]\n",
    "\n",
    "    def sales(self) -> List[int]:\n",
    "        return [f.unit_sold for f in self._fruits]\n",
    "\n",
    "    def group_sales_by_origin(self) -> Dict[str, int]:\n",
    "        agg = defaultdict(int)\n",
    "        for f in self._fruits:\n",
    "            agg[f.origin] += f.unit_sold\n",
    "        return dict(agg)\n",
    "\n",
    "    def sort_by_sales(self, descending: bool = True) -> \"FruitDataset\":\n",
    "        return FruitDataset(sorted(self._fruits, key=lambda f: f.unit_sold, reverse=descending))\n",
    "\n",
    "class FruitPlotter:\n",
    "    @staticmethod\n",
    "    def plot_pie(ds: FruitDataset, title: str = \"Fruit Sales Share\"):\n",
    "        labels = ds.names()\n",
    "        sales = ds.sales()\n",
    "        plt.figure()\n",
    "        plt.pie(sales, labels=labels, autopct='%1.1f%%', startangle=90)\n",
    "        plt.title(title)\n",
    "        plt.tight_layout()\n",
    "        plt.show()\n",
    "\n",
    "    @staticmethod\n",
    "    def plot_origin_pie(ds: FruitDataset, title: str = \"Sales Share by Origin\"):\n",
    "        grouped = ds.group_sales_by_origin()\n",
    "        labels = list(grouped.keys())\n",
    "        sales = list(grouped.values())\n",
    "        plt.figure()\n",
    "        plt.pie(sales, labels=labels, autopct='%1.1f%%', startangle=90)\n",
    "        plt.title(title)\n",
    "        plt.tight_layout()\n",
    "        plt.show()\n"
   ]
  },
  {
   "cell_type": "markdown",
   "id": "37cdad49",
   "metadata": {},
   "source": [
    "## เตรียมข้อมูลตัวอย่าง"
   ]
  },
  {
   "cell_type": "code",
   "execution_count": null,
   "id": "d7c460c8",
   "metadata": {},
   "outputs": [],
   "source": [
    "fruits = [\n",
    "    Fruit(\"Apple\",  \"USA\",      40),\n",
    "    Fruit(\"Banana\", \"Thailand\", 70),\n",
    "    Fruit(\"Mango\",  \"India\",    55),\n",
    "    Fruit(\"Orange\", \"Spain\",    30),\n",
    "    Fruit(\"Durian\", \"Thailand\", 15),\n",
    "]\n",
    "ds = FruitDataset(fruits)\n",
    "len(ds.names()), ds.sales()\n"
   ]
  },
  {
   "cell_type": "markdown",
   "id": "c154d768",
   "metadata": {},
   "source": [
    "## กราฟวงกลม: สัดส่วนยอดขายรายผลไม้"
   ]
  },
  {
   "cell_type": "code",
   "execution_count": null,
   "id": "ca7f800d",
   "metadata": {},
   "outputs": [],
   "source": [
    "FruitPlotter.plot_pie(ds, title=\"Fruit Sales Share (Per Fruit)\")"
   ]
  },
  {
   "cell_type": "markdown",
   "id": "676b838b",
   "metadata": {},
   "source": [
    "## กราฟวงกลม: สัดส่วนยอดขายตามประเทศผู้ผลิต"
   ]
  },
  {
   "cell_type": "code",
   "execution_count": null,
   "id": "1946574e",
   "metadata": {},
   "outputs": [],
   "source": [
    "FruitPlotter.plot_origin_pie(ds, title=\"Fruit Sales Share (By Origin)\")"
   ]
  },
  {
   "cell_type": "markdown",
   "id": "79434c9d",
   "metadata": {},
   "source": [
    "### หมายเหตุการใช้งาน\n",
    "- ใช้ `matplotlib` และไม่ระบุสีเอง ปล่อยให้ใช้ค่าเริ่มต้น\n",
    "- ควรแสดงกราฟทีละรูปต่อเซลล์ (หนึ่งกราฟต่อหนึ่งคำสั่งแสดงผล) เพื่ออ่านง่าย\n",
    "- หากต้องการเรียงก่อนทำกราฟ: `sorted_ds = ds.sort_by_sales(True)` แล้วส่งเข้า `plot_pie(sorted_ds)`\n"
   ]
  }
 ],
 "metadata": {},
 "nbformat": 4,
 "nbformat_minor": 5
}