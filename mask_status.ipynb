{
 "cells": [
  {
   "cell_type": "code",
   "execution_count": 1,
   "id": "4c8770d6-7443-4bf5-8f44-6da6f6a084b7",
   "metadata": {},
   "outputs": [],
   "source": [
    "class Person:\n",
    "    def __init__(self, name, mask_status):\n",
    "        self.name = name\n",
    "        self.mask_status = mask_status\n",
    "\n",
    "    def display_status(self):\n",
    "        print(f\"Name: {self.name}\")\n",
    "        print(f\"Mask Status: {self.mask_status}\")"
   ]
  },
  {
   "cell_type": "code",
   "execution_count": 2,
   "id": "595f911c-c49f-494b-a142-921248c974b9",
   "metadata": {},
   "outputs": [],
   "source": [
    "person1 = Person(\"Alice\", \"Mask\")\n",
    "person2 = Person(\"Bob\", \"No Mask\")\n",
    "person3 = Person(\"Charlie\", \"Bad Mask\")"
   ]
  },
  {
   "cell_type": "code",
   "execution_count": 3,
   "id": "2d353f04-c070-466b-8ac8-f1be0a0c7238",
   "metadata": {},
   "outputs": [
    {
     "name": "stdout",
     "output_type": "stream",
     "text": [
      "Name: Alice\n",
      "Mask Status: Mask\n",
      "-----------\n",
      "Name: Bob\n",
      "Mask Status: No Mask\n",
      "-----------\n",
      "Name: Charlie\n",
      "Mask Status: Bad Mask\n"
     ]
    }
   ],
   "source": [
    "person1.display_status()\n",
    "print(\"-----------\")\n",
    "person2.display_status()\n",
    "print(\"-----------\")\n",
    "person3.display_status()"
   ]
  },
  {
   "cell_type": "code",
   "execution_count": null,
   "id": "7565fbc9-70de-498d-8810-0c71627db84a",
   "metadata": {},
   "outputs": [],
   "source": []
  }
 ],
 "metadata": {
  "kernelspec": {
   "display_name": "Python 3 (ipykernel)",
   "language": "python",
   "name": "python3"
  },
  "language_info": {
   "codemirror_mode": {
    "name": "ipython",
    "version": 3
   },
   "file_extension": ".py",
   "mimetype": "text/x-python",
   "name": "python",
   "nbconvert_exporter": "python",
   "pygments_lexer": "ipython3",
   "version": "3.12.3"
  }
 },
 "nbformat": 4,
 "nbformat_minor": 5
}
