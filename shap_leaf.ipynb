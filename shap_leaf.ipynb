{
 "cells": [
  {
   "cell_type": "code",
   "execution_count": 1,
   "id": "15dde304-60a8-46c0-857e-43b4075a7967",
   "metadata": {},
   "outputs": [],
   "source": [
    "class LeafPlate:\n",
    "    def __init__(self, shape, size, price):\n",
    "        self.shape = shape\n",
    "        self.size = size\n",
    "        self.price = price\n",
    "\n",
    "    def display_info(self):\n",
    "        print(f\"Shape: {self.shape}\")\n",
    "        print(f\"Size: {self.size}\")\n",
    "        print(f\"Price: {self.price:.2f} THB\")"
   ]
  },
  {
   "cell_type": "code",
   "execution_count": 2,
   "id": "bde07943-a666-4e00-b8fc-0d48c855d9c7",
   "metadata": {},
   "outputs": [],
   "source": [
    "plate1 = LeafPlate(\"Rectangle\", \"15 x 10 cm\", 6.00)\n",
    "plate2 = LeafPlate(\"Round\", \"12 cm\", 5.00)\n",
    "plate3 = LeafPlate(\"Heart\", \"10 cm\", 6.50)"
   ]
  },
  {
   "cell_type": "code",
   "execution_count": 3,
   "id": "2e1561c1-c90e-4855-bb97-ad033535b9db",
   "metadata": {},
   "outputs": [
    {
     "name": "stdout",
     "output_type": "stream",
     "text": [
      "Shape: Rectangle\n",
      "Size: 15 x 10 cm\n",
      "Price: 6.00 THB\n",
      "----------\n",
      "Shape: Round\n",
      "Size: 12 cm\n",
      "Price: 5.00 THB\n",
      "----------\n",
      "Shape: Heart\n",
      "Size: 10 cm\n",
      "Price: 6.50 THB\n"
     ]
    }
   ],
   "source": [
    "plate1.display_info()\n",
    "print(\"----------\")\n",
    "plate2.display_info()\n",
    "print(\"----------\")\n",
    "plate3.display_info()"
   ]
  },
  {
   "cell_type": "code",
   "execution_count": null,
   "id": "e0696c67-0abe-475c-a488-4aec6c4851e3",
   "metadata": {},
   "outputs": [],
   "source": []
  }
 ],
 "metadata": {
  "kernelspec": {
   "display_name": "Python 3 (ipykernel)",
   "language": "python",
   "name": "python3"
  },
  "language_info": {
   "codemirror_mode": {
    "name": "ipython",
    "version": 3
   },
   "file_extension": ".py",
   "mimetype": "text/x-python",
   "name": "python",
   "nbconvert_exporter": "python",
   "pygments_lexer": "ipython3",
   "version": "3.12.3"
  }
 },
 "nbformat": 4,
 "nbformat_minor": 5
}
