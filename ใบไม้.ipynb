{
 "cells": [
  {
   "cell_type": "code",
   "execution_count": 2,
   "id": "d010ae5a-559a-4b8d-a1b4-f499277db3f9",
   "metadata": {},
   "outputs": [],
   "source": [
    "class LeafPlate:\n",
    "    def __init__(self, number, shape, size_cm, price, defect=None):\n",
    "        self.number = number     \n",
    "        self.shape = shape      \n",
    "        self.size_cm = size_cm   \n",
    "        self.price = price        \n",
    "        self.defect = defect      \n"
   ]
  },
  {
   "cell_type": "code",
   "execution_count": 12,
   "id": "f7beb305-fd9a-4447-8e8e-737fa43abac3",
   "metadata": {},
   "outputs": [
    {
     "name": "stdout",
     "output_type": "stream",
     "text": [
      "[1] จานใบไม้รูปทรง: กลม, ขนาด: 20 ซม., ราคา: 10 บาท\n",
      "  >> ไม่มีตำหนิ\n",
      "[2] จานใบไม้รูปทรง: สี่เหลี่ยม, ขนาด: 25 ซม., ราคา: 12 บาท\n",
      "  >> มีตำหนิ: สีซีด\n",
      "[3] จานใบไม้รูปทรง: วงรี, ขนาด: 22 ซม., ราคา: 11 บาท\n",
      "  >> ไม่มีตำหนิ\n",
      "กำหนดตำหนิ: รอยขาด\n",
      "[3] จานใบไม้รูปทรง: วงรี, ขนาด: 22 ซม., ราคา: 11 บาท\n",
      "  >> มีตำหนิ: รอยขาด\n"
     ]
    }
   ],
   "source": [
    "\n",
    "class LeafPlate:\n",
    "    def __init__(self, number, shape, size_cm, price, defect=None):\n",
    "        self.number = number    \n",
    "        self.shape = shape        \n",
    "        self.size_cm = size_cm    \n",
    "        self.price = price        \n",
    "        self.defect = defect      \n",
    "\n",
    "    def display_info(self):\n",
    "        print(f\"[{self.number}] จานใบไม้รูปทรง: {self.shape}, ขนาด: {self.size_cm} ซม., ราคา: {self.price} บาท\")\n",
    "        if self.defect:\n",
    "            print(f\"  >> มีตำหนิ: {self.defect}\")\n",
    "        else:\n",
    "            print(\"  >> ไม่มีตำหนิ\")\n",
    "\n",
    "    def update_price(self, new_price):\n",
    "        if new_price >= 0:\n",
    "            self.price = new_price\n",
    "            print(f\"อัปเดตราคาเป็น {self.price} บาทแล้ว\")\n",
    "        else:\n",
    "            print(\"ราคาต้องไม่ติดลบ\")\n",
    "\n",
    "    def update_size(self, new_size):\n",
    "        if new_size > 0:\n",
    "            self.size_cm = new_size\n",
    "            print(f\"อัปเดตขนาดเป็น {self.size_cm} ซม.แล้ว\")\n",
    "        else:\n",
    "            print(\"ขนาดต้องมากกว่า 0\")\n",
    "\n",
    "    def mark_defect(self, defect_description):\n",
    "        self.defect = defect_description\n",
    "        print(f\"กำหนดตำหนิ: {self.defect}\")\n",
    "\n",
    "\n",
    "plate1 = LeafPlate(\"1\", \"กลม\", 20, 10)\n",
    "plate2 = LeafPlate(\"2\", \"สี่เหลี่ยม\", 25, 12, \"สีซีด\")\n",
    "plate3 = LeafPlate(\"3\", \"วงรี\", 22, 11)\n",
    "\n",
    "\n",
    "plate1.display_info()\n",
    "plate2.display_info()\n",
    "plate3.display_info()\n",
    "\n",
    "\n",
    "plate3.mark_defect(\"รอยขาด\")\n",
    "plate3.display_info()\n"
   ]
  },
  {
   "cell_type": "code",
   "execution_count": null,
   "id": "a5dcf6a6-1dec-4375-8b10-0d6d80dfede6",
   "metadata": {},
   "outputs": [],
   "source": []
  }
 ],
 "metadata": {
  "kernelspec": {
   "display_name": "Python [conda env:base] *",
   "language": "python",
   "name": "conda-base-py"
  },
  "language_info": {
   "codemirror_mode": {
    "name": "ipython",
    "version": 3
   },
   "file_extension": ".py",
   "mimetype": "text/x-python",
   "name": "python",
   "nbconvert_exporter": "python",
   "pygments_lexer": "ipython3",
   "version": "3.13.5"
  }
 },
 "nbformat": 4,
 "nbformat_minor": 5
}
